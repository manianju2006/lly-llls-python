{
  "nbformat": 4,
  "nbformat_minor": 0,
  "metadata": {
    "colab": {
      "provenance": [],
      "authorship_tag": "ABX9TyPie7GgGF/IgdGObvrEZJLy",
      "include_colab_link": true
    },
    "kernelspec": {
      "name": "python3",
      "display_name": "Python 3"
    },
    "language_info": {
      "name": "python"
    }
  },
  "cells": [
    {
      "cell_type": "markdown",
      "metadata": {
        "id": "view-in-github",
        "colab_type": "text"
      },
      "source": [
        "<a href=\"https://colab.research.google.com/github/manianju2006/lly-llls-python/blob/main/Untitled3.ipynb\" target=\"_parent\"><img src=\"https://colab.research.google.com/assets/colab-badge.svg\" alt=\"Open In Colab\"/></a>"
      ]
    },
    {
      "cell_type": "code",
      "execution_count": 3,
      "metadata": {
        "colab": {
          "base_uri": "https://localhost:8080/"
        },
        "id": "gHGCzRVyim6z",
        "outputId": "cf995680-6238-4f39-abf2-2219702d3b9f"
      },
      "outputs": [
        {
          "output_type": "stream",
          "name": "stdout",
          "text": [
            "Array 1: [10 20 30]\n",
            "Array 2: [1 2 3]\n",
            "Result (Array1 + Array2): [11 22 33]\n"
          ]
        }
      ],
      "source": [
        "import numpy as np\n",
        "\n",
        "array1 = np.array([10, 20, 30])\n",
        "array2 = np.array([1, 2, 3])\n",
        "\n",
        "result = np.add(array1, array2)\n",
        "\n",
        "print(\"Array 1:\", array1)\n",
        "print(\"Array 2:\", array2)\n",
        "print(\"Result (Array1 + Array2):\", result)"
      ]
    },
    {
      "cell_type": "code",
      "source": [
        "import numpy as np\n",
        "\n",
        "array = np.array([1, 2, 3, 4, 5])\n",
        "if np.all(array):\n",
        "    print(\"None of the elements in the array is zero.\")\n",
        "else:\n",
        "    print(\"There is at least one zero element in the array.\")"
      ],
      "metadata": {
        "colab": {
          "base_uri": "https://localhost:8080/"
        },
        "id": "iI9OMobIjNb_",
        "outputId": "9badef01-140d-44c7-c3af-228fb5cdfe7f"
      },
      "execution_count": 4,
      "outputs": [
        {
          "output_type": "stream",
          "name": "stdout",
          "text": [
            "None of the elements in the array is zero.\n"
          ]
        }
      ]
    },
    {
      "cell_type": "code",
      "source": [
        "import numpy as np\n",
        "\n",
        "a = np.array([1, 5, 3, 9])\n",
        "b = np.array([2, 5, 1, 10])\n",
        "\n",
        "print(\"a > b:\", np.greater(a, b))\n",
        "print(\"a >= b:\", np.greater_equal(a, b))\n",
        "print(\"a < b:\", np.less(a, b))\n",
        "print(\"a <= b:\", np.less_equal(a, b))\n",
        "print(\"a == b:\", np.equal(a, b))\n",
        "print(\"a equal to b within tolerance:\", np.allclose(a, b))"
      ],
      "metadata": {
        "colab": {
          "base_uri": "https://localhost:8080/"
        },
        "id": "4o-i3C_UjRo8",
        "outputId": "0b020186-b4e5-44e3-847b-0fb5870c94f9"
      },
      "execution_count": 5,
      "outputs": [
        {
          "output_type": "stream",
          "name": "stdout",
          "text": [
            "a > b: [False False  True False]\n",
            "a >= b: [False  True  True False]\n",
            "a < b: [ True False False  True]\n",
            "a <= b: [ True  True False  True]\n",
            "a == b: [False  True False False]\n",
            "a equal to b within tolerance: False\n"
          ]
        }
      ]
    },
    {
      "cell_type": "code",
      "source": [
        "import numpy as np\n",
        "arr = np.array([3, 7, 1, 9, 5, 3, 7, 1, 8])\n",
        "num = 5\n",
        "less_than_num = arr[arr < num]\n",
        "greater_than_num = arr[arr > num]\n",
        "print(\"Numbers less than\", num, \":\", less_than_num)\n",
        "print(\"Numbers greater than\", num, \":\", greater_than_num)"
      ],
      "metadata": {
        "colab": {
          "base_uri": "https://localhost:8080/"
        },
        "id": "S9ei8KOFjSEY",
        "outputId": "83ab17ad-ca9a-47ed-b7da-782613a3a51e"
      },
      "execution_count": 6,
      "outputs": [
        {
          "output_type": "stream",
          "name": "stdout",
          "text": [
            "Numbers less than 5 : [3 1 3 1]\n",
            "Numbers greater than 5 : [7 9 7 8]\n"
          ]
        }
      ]
    },
    {
      "cell_type": "code",
      "source": [
        "import numpy as np\n",
        "# Define array\n",
        "arr = np.array([3, 7, 1, 9, 5, 3, 7, 1, 8])\n",
        "# Find indices of maximum and minimum numbers\n",
        "max_index = np.argmax(arr)\n",
        "min_index = np.argmin(arr)\n",
        "print(\"Index of maximum number:\", max_index)\n",
        "print(\"Index of minimum number:\", min_index)\n",
        "# Additional NumPy operations\n",
        "print(\"Maximum value:\", np.max(arr))\n",
        "print(\"Minimum value:\", np.min(arr))\n",
        "print(\"Unique elements:\", np.unique(arr))\n",
        "print(\"Bincount of elements:\", np.bincount(arr))\n",
        "print(\"Array representation using repr():\", repr(arr))"
      ],
      "metadata": {
        "colab": {
          "base_uri": "https://localhost:8080/"
        },
        "id": "pjTksvFWjaoQ",
        "outputId": "16bba216-4b99-4b2b-bfaa-f090d197ea1c"
      },
      "execution_count": 7,
      "outputs": [
        {
          "output_type": "stream",
          "name": "stdout",
          "text": [
            "Index of maximum number: 3\n",
            "Index of minimum number: 2\n",
            "Maximum value: 9\n",
            "Minimum value: 1\n",
            "Unique elements: [1 3 5 7 8 9]\n",
            "Bincount of elements: [0 2 0 2 0 1 0 2 1 1]\n",
            "Array representation using repr(): array([3, 7, 1, 9, 5, 3, 7, 1, 8])\n"
          ]
        }
      ]
    }
  ]
}